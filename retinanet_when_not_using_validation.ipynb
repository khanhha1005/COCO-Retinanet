{
  "cells": [
    {
      "cell_type": "markdown",
      "metadata": {
        "id": "zmDI4SeoVAmj"
      },
      "source": [
        "# Import library "
      ]
    },
    {
      "cell_type": "code",
      "execution_count": 1,
      "metadata": {
        "id": "NOBeSjDSVAmk"
      },
      "outputs": [],
      "source": [
        "import torchvision.transforms as transforms\n",
        "import cv2\n",
        "import numpy as np\n",
        "import torch"
      ]
    },
    {
      "cell_type": "code",
      "source": [
        "from google.colab import drive\n",
        "drive.mount('/content/drive')"
      ],
      "metadata": {
        "colab": {
          "base_uri": "https://localhost:8080/"
        },
        "id": "uUkss2xWmo28",
        "outputId": "48f07a4e-2555-460e-f5a2-69765e071c07"
      },
      "execution_count": 2,
      "outputs": [
        {
          "output_type": "stream",
          "name": "stdout",
          "text": [
            "Mounted at /content/drive\n"
          ]
        }
      ]
    },
    {
      "cell_type": "markdown",
      "source": [
        "# GET DATA"
      ],
      "metadata": {
        "id": "4Iv1mQ8Qmegp"
      }
    },
    {
      "cell_type": "code",
      "source": [
        "%cd /content/drive/MyDrive/Retinanet/pytorch-retinanet"
      ],
      "metadata": {
        "colab": {
          "base_uri": "https://localhost:8080/"
        },
        "id": "uvZ0PLz23D3P",
        "outputId": "bcbcf9f0-acc5-49e3-dc07-4753ae357925"
      },
      "execution_count": 3,
      "outputs": [
        {
          "output_type": "stream",
          "name": "stdout",
          "text": [
            "/content/drive/MyDrive/Retinanet/pytorch-retinanet\n"
          ]
        }
      ]
    },
    {
      "cell_type": "code",
      "source": [
        "!wget http://images.cocodataset.org/zips/val2017.zip\n",
        "!wget http://images.cocodataset.org/annotations/annotations_trainval2017.zip\n",
        "!wget http://images.cocodataset.org/zips/train2017.zip  "
      ],
      "metadata": {
        "colab": {
          "base_uri": "https://localhost:8080/"
        },
        "id": "EmIo13-ILVkn",
        "outputId": "729e9d63-1520-433b-eb52-c0e26e1addc7"
      },
      "execution_count": null,
      "outputs": [
        {
          "output_type": "stream",
          "name": "stdout",
          "text": [
            "--2023-01-01 07:13:16--  http://images.cocodataset.org/zips/val2017.zip\n",
            "Resolving images.cocodataset.org (images.cocodataset.org)... 54.231.229.121, 52.216.36.89, 52.217.175.89, ...\n",
            "Connecting to images.cocodataset.org (images.cocodataset.org)|54.231.229.121|:80... connected.\n",
            "HTTP request sent, awaiting response... 200 OK\n",
            "Length: 815585330 (778M) [application/zip]\n",
            "Saving to: ‘val2017.zip’\n",
            "\n",
            "val2017.zip         100%[===================>] 777.80M  11.7MB/s    in 73s     \n",
            "\n",
            "2023-01-01 07:14:29 (10.7 MB/s) - ‘val2017.zip’ saved [815585330/815585330]\n",
            "\n",
            "--2023-01-01 07:14:29--  http://images.cocodataset.org/annotations/annotations_trainval2017.zip\n",
            "Resolving images.cocodataset.org (images.cocodataset.org)... 52.217.66.76, 52.217.1.244, 52.217.10.140, ...\n",
            "Connecting to images.cocodataset.org (images.cocodataset.org)|52.217.66.76|:80... connected.\n",
            "HTTP request sent, awaiting response... 200 OK\n",
            "Length: 252907541 (241M) [application/zip]\n",
            "Saving to: ‘annotations_trainval2017.zip’\n",
            "\n",
            "annotations_trainva 100%[===================>] 241.19M  12.1MB/s    in 22s     \n",
            "\n",
            "2023-01-01 07:14:52 (10.8 MB/s) - ‘annotations_trainval2017.zip’ saved [252907541/252907541]\n",
            "\n",
            "--2023-01-01 07:14:52--  http://images.cocodataset.org/zips/train2017.zip\n",
            "Resolving images.cocodataset.org (images.cocodataset.org)... 52.216.50.121, 54.231.192.241, 52.217.73.68, ...\n",
            "Connecting to images.cocodataset.org (images.cocodataset.org)|52.216.50.121|:80... connected.\n",
            "HTTP request sent, awaiting response... 200 OK\n",
            "Length: 19336861798 (18G) [application/zip]\n",
            "Saving to: ‘train2017.zip’\n",
            "\n",
            "train2017.zip         9%[>                   ]   1.68G  10.2MB/s    eta 24m 12s"
          ]
        }
      ]
    },
    {
      "cell_type": "code",
      "source": [
        "!unzip /content/train2017.zip\n",
        "!rm -rf /content/train2017.zip\n",
        "!unzip val2017.zip\n",
        "!rm -rf val2017.zip\n",
        "!unzip annotations_trainval2017.zip\n",
        "!rm -rf annotations_trainval2017.zip\n"
      ],
      "metadata": {
        "id": "rPQxDitrLRTM"
      },
      "execution_count": null,
      "outputs": []
    },
    {
      "cell_type": "code",
      "source": [
        "!python train.py --dataset coco --coco_path /content/coco2017 --depth 50 --epochs 2"
      ],
      "metadata": {
        "id": "EEwI5eV4LMAD"
      },
      "execution_count": null,
      "outputs": []
    },
    {
      "cell_type": "markdown",
      "source": [
        "#Testing processing"
      ],
      "metadata": {
        "id": "i7Zj3pCSjFHY"
      }
    },
    {
      "cell_type": "code",
      "source": [
        "%cd /content/drive/MyDrive/Retinanet/pytorch-retinanet"
      ],
      "metadata": {
        "id": "BvGgF7TLLlA7"
      },
      "execution_count": null,
      "outputs": []
    },
    {
      "cell_type": "code",
      "source": [
        "!python coco_validation.py --coco_path /content/drive/MyDrive/Retinanet/coco2017 --model_path /content/drive/MyDrive/Retinanet/coco_resnet_50_map_0_335_state_dict.pt"
      ],
      "metadata": {
        "id": "l_ssJS1CVkiA"
      },
      "execution_count": null,
      "outputs": []
    },
    {
      "cell_type": "markdown",
      "source": [
        "# Inference Mode "
      ],
      "metadata": {
        "id": "Uzv2rt8ZjQ5l"
      }
    },
    {
      "cell_type": "code",
      "source": [
        "from retinanet import model\n",
        "\n",
        "retinanet = model.resnet50(num_classes=80,)\n",
        "retinanet.load_state_dict(torch.load('/content/drive/MyDrive/Retinanet/coco_resnet_50_map_0_335_state_dict.pt'))"
      ],
      "metadata": {
        "id": "5m50WHLJkVz9"
      },
      "execution_count": null,
      "outputs": []
    },
    {
      "cell_type": "markdown",
      "source": [
        "**UPLOAD ẢNH**"
      ],
      "metadata": {
        "id": "qA6V6Kgkj-zG"
      }
    },
    {
      "cell_type": "code",
      "source": [
        "from google.colab import files\n",
        "uploaded = files.upload()"
      ],
      "metadata": {
        "id": "c3I2q4tSj0pn"
      },
      "execution_count": null,
      "outputs": []
    },
    {
      "cell_type": "code",
      "source": [
        "!rm -rf 000000000001.jpg\n"
      ],
      "metadata": {
        "id": "c5DYfGxinQjN"
      },
      "execution_count": null,
      "outputs": []
    }
  ],
  "metadata": {
    "kernelspec": {
      "display_name": "Python 3.9.7 ('base')",
      "language": "python",
      "name": "python3"
    },
    "language_info": {
      "codemirror_mode": {
        "name": "ipython",
        "version": 3
      },
      "file_extension": ".py",
      "mimetype": "text/x-python",
      "name": "python",
      "nbconvert_exporter": "python",
      "pygments_lexer": "ipython3",
      "version": "3.9.7"
    },
    "orig_nbformat": 4,
    "vscode": {
      "interpreter": {
        "hash": "ff2136a0fe6bc790f1b40d257e6b1bba23119827483ea2b7c12c8cc23c661a47"
      }
    },
    "colab": {
      "provenance": []
    },
    "accelerator": "GPU",
    "gpuClass": "standard"
  },
  "nbformat": 4,
  "nbformat_minor": 0
}