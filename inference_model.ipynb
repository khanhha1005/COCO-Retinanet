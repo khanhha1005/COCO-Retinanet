{
  "cells": [
    {
      "cell_type": "markdown",
      "metadata": {
        "id": "zmDI4SeoVAmj"
      },
      "source": [
        "# Import library "
      ]
    },
    {
      "cell_type": "code",
      "execution_count": 1,
      "metadata": {
        "id": "NOBeSjDSVAmk"
      },
      "outputs": [],
      "source": [
        "import torchvision.transforms as transforms\n",
        "import cv2\n",
        "import numpy as np\n",
        "import torch"
      ]
    },
    {
      "cell_type": "code",
      "execution_count": 2,
      "metadata": {
        "colab": {
          "base_uri": "https://localhost:8080/"
        },
        "id": "uUkss2xWmo28",
        "outputId": "d30ae4c3-49a1-4082-93bd-61cb66b971ab"
      },
      "outputs": [
        {
          "output_type": "stream",
          "name": "stdout",
          "text": [
            "Mounted at /content/drive\n"
          ]
        }
      ],
      "source": [
        "from google.colab import drive\n",
        "drive.mount('/content/drive')"
      ]
    },
    {
      "cell_type": "markdown",
      "metadata": {
        "id": "4Iv1mQ8Qmegp"
      },
      "source": [
        "# GET DATA"
      ]
    },
    {
      "cell_type": "code",
      "source": [
        "%cd /content"
      ],
      "metadata": {
        "colab": {
          "base_uri": "https://localhost:8080/"
        },
        "id": "YxcOXgyyB3Lg",
        "outputId": "b394582a-eba5-4ddd-9264-da27e06f5376"
      },
      "execution_count": 60,
      "outputs": [
        {
          "output_type": "stream",
          "name": "stdout",
          "text": [
            "/content\n"
          ]
        }
      ]
    },
    {
      "cell_type": "code",
      "source": [
        "!wget http://images.cocodataset.org/zips/val2017.zip\n",
        "!wget http://images.cocodataset.org/annotations/annotations_trainval2017.zip\n",
        "!wget http://images.cocodataset.org/zips/train2017.zip  "
      ],
      "metadata": {
        "colab": {
          "base_uri": "https://localhost:8080/"
        },
        "id": "A2_yaPrXCRU7",
        "outputId": "c5c274e8-60b3-4646-efb7-bfaad914ffed"
      },
      "execution_count": null,
      "outputs": [
        {
          "output_type": "stream",
          "name": "stdout",
          "text": [
            "--2023-01-02 05:51:53--  http://images.cocodataset.org/zips/val2017.zip\n",
            "Resolving images.cocodataset.org (images.cocodataset.org)... 3.5.21.141, 52.217.69.28, 52.217.76.156, ...\n",
            "Connecting to images.cocodataset.org (images.cocodataset.org)|3.5.21.141|:80... connected.\n",
            "HTTP request sent, awaiting response... 200 OK\n",
            "Length: 815585330 (778M) [application/zip]\n",
            "Saving to: ‘val2017.zip’\n",
            "\n",
            "val2017.zip         100%[===================>] 777.80M  30.8MB/s    in 35s     \n",
            "\n",
            "2023-01-02 05:52:28 (22.0 MB/s) - ‘val2017.zip’ saved [815585330/815585330]\n",
            "\n",
            "--2023-01-02 05:52:29--  http://images.cocodataset.org/annotations/annotations_trainval2017.zip\n",
            "Resolving images.cocodataset.org (images.cocodataset.org)... 54.231.236.1, 52.216.169.219, 54.231.131.161, ...\n",
            "Connecting to images.cocodataset.org (images.cocodataset.org)|54.231.236.1|:80... connected.\n",
            "HTTP request sent, awaiting response... 200 OK\n",
            "Length: 252907541 (241M) [application/zip]\n",
            "Saving to: ‘annotations_trainval2017.zip’\n",
            "\n",
            "annotations_trainva 100%[===================>] 241.19M  31.2MB/s    in 8.3s    \n",
            "\n",
            "2023-01-02 05:52:37 (29.2 MB/s) - ‘annotations_trainval2017.zip’ saved [252907541/252907541]\n",
            "\n",
            "--2023-01-02 05:52:37--  http://images.cocodataset.org/zips/train2017.zip\n",
            "Resolving images.cocodataset.org (images.cocodataset.org)... 52.216.38.233, 52.216.152.108, 52.216.216.225, ...\n",
            "Connecting to images.cocodataset.org (images.cocodataset.org)|52.216.38.233|:80... connected.\n",
            "HTTP request sent, awaiting response... 200 OK\n",
            "Length: 19336861798 (18G) [application/zip]\n",
            "Saving to: ‘train2017.zip’\n",
            "\n",
            "train2017.zip        25%[====>               ]   4.66G  34.0MB/s    eta 6m 58s "
          ]
        }
      ]
    },
    {
      "cell_type": "code",
      "execution_count": null,
      "metadata": {
        "id": "rPQxDitrLRTM"
      },
      "outputs": [],
      "source": [
        "!unzip train2017.zip\n",
        "!rm -rf train2017.zip\n",
        "!unzip val2017.zip\n",
        "!rm -rf val2017.zip\n",
        "!unzip annotations_trainval2017.zip\n",
        "!rm -rf annotations_trainval2017.zip\n"
      ]
    },
    {
      "cell_type": "code",
      "execution_count": null,
      "metadata": {
        "colab": {
          "base_uri": "https://localhost:8080/"
        },
        "id": "EEwI5eV4LMAD",
        "outputId": "19e2417e-21af-43ac-c2cd-53146d17937e"
      },
      "outputs": [
        {
          "name": "stdout",
          "output_type": "stream",
          "text": [
            "CUDA available: True\n",
            "loading annotations into memory...\n",
            "Traceback (most recent call last):\n",
            "  File \"train.py\", line 180, in <module>\n",
            "    main()\n",
            "  File \"train.py\", line 43, in main\n",
            "    dataset_train = CocoDataset(parser.coco_path, set_name='train2017',\n",
            "  File \"/content/drive/MyDrive/Retinanet/pytorch-retinanet/retinanet/dataloader.py\", line 37, in __init__\n",
            "    self.coco      = COCO(os.path.join(self.root_dir, 'annotations', 'instances_' + self.set_name + '.json'))\n",
            "  File \"/usr/local/lib/python3.8/dist-packages/pycocotools/coco.py\", line 81, in __init__\n",
            "    with open(annotation_file, 'r') as f:\n",
            "FileNotFoundError: [Errno 2] No such file or directory: '/content/coco2017/annotations/instances_train2017.json'\n",
            "^C\n"
          ]
        }
      ],
      "source": [
        "!python train.py --dataset coco --coco_path /content/coco2017 --depth 50 --epochs 2"
      ]
    },
    {
      "cell_type": "markdown",
      "metadata": {
        "id": "i7Zj3pCSjFHY"
      },
      "source": [
        "# Testing processing"
      ]
    },
    {
      "cell_type": "code",
      "execution_count": null,
      "metadata": {
        "colab": {
          "base_uri": "https://localhost:8080/"
        },
        "id": "BvGgF7TLLlA7",
        "outputId": "9fb5c45c-184c-473e-9189-28a617500f98"
      },
      "outputs": [
        {
          "name": "stdout",
          "output_type": "stream",
          "text": [
            "/content/drive/MyDrive/Retinanet/pytorch-retinanet\n"
          ]
        }
      ],
      "source": [
        "%cd /content/drive/MyDrive/Retinanet/pytorch-retinanet"
      ]
    },
    {
      "cell_type": "code",
      "execution_count": null,
      "metadata": {
        "id": "l_ssJS1CVkiA"
      },
      "outputs": [],
      "source": [
        "!python coco_validation.py --coco_path /content/drive/MyDrive/Retinanet/coco2017 --model_path /content/drive/MyDrive/Retinanet/coco_resnet_50_map_0_335_state_dict.pt"
      ]
    },
    {
      "cell_type": "markdown",
      "metadata": {
        "id": "Uzv2rt8ZjQ5l"
      },
      "source": [
        "# Inference Mode "
      ]
    },
    {
      "cell_type": "code",
      "execution_count": 4,
      "metadata": {
        "colab": {
          "base_uri": "https://localhost:8080/"
        },
        "id": "5m50WHLJkVz9",
        "outputId": "185c47dd-ad2e-4e4e-8a81-84382b90be30"
      },
      "outputs": [
        {
          "output_type": "execute_result",
          "data": {
            "text/plain": [
              "<All keys matched successfully>"
            ]
          },
          "metadata": {},
          "execution_count": 4
        }
      ],
      "source": [
        "import torch\n",
        "from retinanet import model\n",
        "\n",
        "retinanet = model.resnet50(num_classes=80,)\n",
        "retinanet.load_state_dict(torch.load('/content/drive/MyDrive/Retinanet/coco_resnet_50_map_0_335_state_dict.pt'))"
      ]
    },
    {
      "cell_type": "markdown",
      "metadata": {
        "id": "qA6V6Kgkj-zG"
      },
      "source": [
        "**UPLOAD ẢNH**"
      ]
    },
    {
      "cell_type": "code",
      "execution_count": 5,
      "metadata": {
        "colab": {
          "base_uri": "https://localhost:8080/",
          "height": 74
        },
        "id": "c3I2q4tSj0pn",
        "outputId": "4930049d-6527-40f1-845b-42bd7e3b3c18"
      },
      "outputs": [
        {
          "output_type": "display_data",
          "data": {
            "text/plain": [
              "<IPython.core.display.HTML object>"
            ],
            "text/html": [
              "\n",
              "     <input type=\"file\" id=\"files-0a505f41-646e-4894-a61a-b80a6d939c97\" name=\"files[]\" multiple disabled\n",
              "        style=\"border:none\" />\n",
              "     <output id=\"result-0a505f41-646e-4894-a61a-b80a6d939c97\">\n",
              "      Upload widget is only available when the cell has been executed in the\n",
              "      current browser session. Please rerun this cell to enable.\n",
              "      </output>\n",
              "      <script>// Copyright 2017 Google LLC\n",
              "//\n",
              "// Licensed under the Apache License, Version 2.0 (the \"License\");\n",
              "// you may not use this file except in compliance with the License.\n",
              "// You may obtain a copy of the License at\n",
              "//\n",
              "//      http://www.apache.org/licenses/LICENSE-2.0\n",
              "//\n",
              "// Unless required by applicable law or agreed to in writing, software\n",
              "// distributed under the License is distributed on an \"AS IS\" BASIS,\n",
              "// WITHOUT WARRANTIES OR CONDITIONS OF ANY KIND, either express or implied.\n",
              "// See the License for the specific language governing permissions and\n",
              "// limitations under the License.\n",
              "\n",
              "/**\n",
              " * @fileoverview Helpers for google.colab Python module.\n",
              " */\n",
              "(function(scope) {\n",
              "function span(text, styleAttributes = {}) {\n",
              "  const element = document.createElement('span');\n",
              "  element.textContent = text;\n",
              "  for (const key of Object.keys(styleAttributes)) {\n",
              "    element.style[key] = styleAttributes[key];\n",
              "  }\n",
              "  return element;\n",
              "}\n",
              "\n",
              "// Max number of bytes which will be uploaded at a time.\n",
              "const MAX_PAYLOAD_SIZE = 100 * 1024;\n",
              "\n",
              "function _uploadFiles(inputId, outputId) {\n",
              "  const steps = uploadFilesStep(inputId, outputId);\n",
              "  const outputElement = document.getElementById(outputId);\n",
              "  // Cache steps on the outputElement to make it available for the next call\n",
              "  // to uploadFilesContinue from Python.\n",
              "  outputElement.steps = steps;\n",
              "\n",
              "  return _uploadFilesContinue(outputId);\n",
              "}\n",
              "\n",
              "// This is roughly an async generator (not supported in the browser yet),\n",
              "// where there are multiple asynchronous steps and the Python side is going\n",
              "// to poll for completion of each step.\n",
              "// This uses a Promise to block the python side on completion of each step,\n",
              "// then passes the result of the previous step as the input to the next step.\n",
              "function _uploadFilesContinue(outputId) {\n",
              "  const outputElement = document.getElementById(outputId);\n",
              "  const steps = outputElement.steps;\n",
              "\n",
              "  const next = steps.next(outputElement.lastPromiseValue);\n",
              "  return Promise.resolve(next.value.promise).then((value) => {\n",
              "    // Cache the last promise value to make it available to the next\n",
              "    // step of the generator.\n",
              "    outputElement.lastPromiseValue = value;\n",
              "    return next.value.response;\n",
              "  });\n",
              "}\n",
              "\n",
              "/**\n",
              " * Generator function which is called between each async step of the upload\n",
              " * process.\n",
              " * @param {string} inputId Element ID of the input file picker element.\n",
              " * @param {string} outputId Element ID of the output display.\n",
              " * @return {!Iterable<!Object>} Iterable of next steps.\n",
              " */\n",
              "function* uploadFilesStep(inputId, outputId) {\n",
              "  const inputElement = document.getElementById(inputId);\n",
              "  inputElement.disabled = false;\n",
              "\n",
              "  const outputElement = document.getElementById(outputId);\n",
              "  outputElement.innerHTML = '';\n",
              "\n",
              "  const pickedPromise = new Promise((resolve) => {\n",
              "    inputElement.addEventListener('change', (e) => {\n",
              "      resolve(e.target.files);\n",
              "    });\n",
              "  });\n",
              "\n",
              "  const cancel = document.createElement('button');\n",
              "  inputElement.parentElement.appendChild(cancel);\n",
              "  cancel.textContent = 'Cancel upload';\n",
              "  const cancelPromise = new Promise((resolve) => {\n",
              "    cancel.onclick = () => {\n",
              "      resolve(null);\n",
              "    };\n",
              "  });\n",
              "\n",
              "  // Wait for the user to pick the files.\n",
              "  const files = yield {\n",
              "    promise: Promise.race([pickedPromise, cancelPromise]),\n",
              "    response: {\n",
              "      action: 'starting',\n",
              "    }\n",
              "  };\n",
              "\n",
              "  cancel.remove();\n",
              "\n",
              "  // Disable the input element since further picks are not allowed.\n",
              "  inputElement.disabled = true;\n",
              "\n",
              "  if (!files) {\n",
              "    return {\n",
              "      response: {\n",
              "        action: 'complete',\n",
              "      }\n",
              "    };\n",
              "  }\n",
              "\n",
              "  for (const file of files) {\n",
              "    const li = document.createElement('li');\n",
              "    li.append(span(file.name, {fontWeight: 'bold'}));\n",
              "    li.append(span(\n",
              "        `(${file.type || 'n/a'}) - ${file.size} bytes, ` +\n",
              "        `last modified: ${\n",
              "            file.lastModifiedDate ? file.lastModifiedDate.toLocaleDateString() :\n",
              "                                    'n/a'} - `));\n",
              "    const percent = span('0% done');\n",
              "    li.appendChild(percent);\n",
              "\n",
              "    outputElement.appendChild(li);\n",
              "\n",
              "    const fileDataPromise = new Promise((resolve) => {\n",
              "      const reader = new FileReader();\n",
              "      reader.onload = (e) => {\n",
              "        resolve(e.target.result);\n",
              "      };\n",
              "      reader.readAsArrayBuffer(file);\n",
              "    });\n",
              "    // Wait for the data to be ready.\n",
              "    let fileData = yield {\n",
              "      promise: fileDataPromise,\n",
              "      response: {\n",
              "        action: 'continue',\n",
              "      }\n",
              "    };\n",
              "\n",
              "    // Use a chunked sending to avoid message size limits. See b/62115660.\n",
              "    let position = 0;\n",
              "    do {\n",
              "      const length = Math.min(fileData.byteLength - position, MAX_PAYLOAD_SIZE);\n",
              "      const chunk = new Uint8Array(fileData, position, length);\n",
              "      position += length;\n",
              "\n",
              "      const base64 = btoa(String.fromCharCode.apply(null, chunk));\n",
              "      yield {\n",
              "        response: {\n",
              "          action: 'append',\n",
              "          file: file.name,\n",
              "          data: base64,\n",
              "        },\n",
              "      };\n",
              "\n",
              "      let percentDone = fileData.byteLength === 0 ?\n",
              "          100 :\n",
              "          Math.round((position / fileData.byteLength) * 100);\n",
              "      percent.textContent = `${percentDone}% done`;\n",
              "\n",
              "    } while (position < fileData.byteLength);\n",
              "  }\n",
              "\n",
              "  // All done.\n",
              "  yield {\n",
              "    response: {\n",
              "      action: 'complete',\n",
              "    }\n",
              "  };\n",
              "}\n",
              "\n",
              "scope.google = scope.google || {};\n",
              "scope.google.colab = scope.google.colab || {};\n",
              "scope.google.colab._files = {\n",
              "  _uploadFiles,\n",
              "  _uploadFilesContinue,\n",
              "};\n",
              "})(self);\n",
              "</script> "
            ]
          },
          "metadata": {}
        },
        {
          "output_type": "stream",
          "name": "stdout",
          "text": [
            "Saving 1.png to 1.png\n"
          ]
        }
      ],
      "source": [
        "from google.colab import files\n",
        "uploaded = files.upload()\n",
        "j = list((uploaded.keys()))[0]\n"
      ]
    },
    {
      "cell_type": "code",
      "execution_count": 6,
      "metadata": {
        "id": "Ef_dUN7PV4P8"
      },
      "outputs": [],
      "source": [
        "%matplotlib inline\n",
        "\n",
        "img_path = '/content/drive/MyDrive/Retinanet/pytorch-retinanet/'+str(j)"
      ]
    },
    {
      "cell_type": "code",
      "execution_count": 57,
      "metadata": {
        "id": "k9F4pDZHRCcE"
      },
      "outputs": [],
      "source": [
        "from __future__ import print_function\n",
        "from PIL import Image\n",
        "import matplotlib.pyplot  as plt\n",
        "\n",
        "import torch\n",
        "import numpy as np\n",
        "import time\n",
        "import os\n",
        "import cv2\n",
        "\n",
        "COLORS = np.random.uniform(0, 255, size=(81, 3))\n",
        "# Draws caption\n",
        "def draw_caption(image, box, caption,idx):\n",
        "    b = np.array(box).astype(int)\n",
        "    color = COLORS[idx]\n",
        "    cv2.putText(image, caption, (int(box[0]), int(box[1]+10)),\n",
        "                cv2.FONT_HERSHEY_SIMPLEX, 0.8, color, 2, \n",
        "                lineType=cv2.LINE_AA)\n",
        "\n",
        "def predict(img_path,retinanet):\n",
        "    labels = {0: 'person',1: 'bicycle',2: 'car',3: 'motorcycle',4: 'airplane',5: 'bus',6: 'train',7: 'truck',8: 'boat',9: 'traffic light',10: 'fire hydrant',11: 'stop sign',12: 'parking meter',13: 'bench',14: 'bird',15: 'cat',16: 'dog',17: 'horse',18: 'sheep',19: 'cow',20: 'elephant',21: 'bear',22: 'zebra',23: 'giraffe',24: 'backpack',25: 'umbrella',26: 'handbag',27: 'tie',28: 'suitcase',29: 'frisbee',30: 'skis',31: 'snowboard',32: 'sports ball',33: 'kite',34: 'baseball bat',35: 'baseball glove',36: 'skateboard',37: 'surfboard',38: 'tennis racket',39: 'bottle',40: 'wine glass',41: 'cup',42: 'fork',43: 'knife',44: 'spoon',45: 'bowl',46: 'banana',47: 'apple',48: 'sandwich',49: 'orange',50: 'broccoli',51: 'carrot',52: 'hot dog',53: 'pizza',54: 'donut',55: 'cake',56: 'chair',57: 'couch',58: 'potted plant',59: 'bed',60: 'dining table',61: 'toilet',62: 'tv',63: 'laptop',64: 'mouse',65: 'remote',66: 'keyboard',67: 'cell phone',68: 'microwave',69: 'oven',70: 'toaster',71: 'sink',72: 'refrigerator',73: 'book',74: 'clock',75: 'vase',76: 'scissors', 77: 'teddy bear',78: 'hair drier',79: 'toothbrush'}\n",
        "    image =  cv2.imread(img_path)\n",
        "\n",
        "    if torch.cuda.is_available():\n",
        "        retinanet = retinanet.cuda()\n",
        "\n",
        "    retinanet.eval()\n",
        "    image_orig = image.copy()\n",
        "\n",
        "    rows, cols, cns = image.shape\n",
        "\n",
        "    smallest_side = min(rows, cols)\n",
        "\n",
        "    # rescale the image so the smallest side is min_side\n",
        "    min_side = 608\n",
        "    max_side = 1024\n",
        "    scale = min_side / smallest_side\n",
        "\n",
        "    # check if the largest side is now greater than max_side, which can happen\n",
        "    # when images have a large aspect ratio\n",
        "    largest_side = max(rows, cols)\n",
        "\n",
        "    if largest_side * scale > max_side:\n",
        "        scale = max_side / largest_side\n",
        "\n",
        "    # resize the image with the computed scale\n",
        "    image = cv2.resize(image, (int(round(cols * scale)), int(round((rows * scale)))))\n",
        "    rows, cols, cns = image.shape\n",
        "\n",
        "    pad_w = 32 - rows % 32\n",
        "    pad_h = 32 - cols % 32\n",
        "\n",
        "    new_image = np.zeros((rows + pad_w, cols + pad_h, cns)).astype(np.float32)\n",
        "    new_image[:rows, :cols, :] = image.astype(np.float32)\n",
        "    image = new_image.astype(np.float32)\n",
        "    image /= 255\n",
        "    image -= [0.485, 0.456, 0.406]\n",
        "    image /= [0.229, 0.224, 0.225]\n",
        "    image = np.expand_dims(image, 0)\n",
        "    image = np.transpose(image, (0, 3, 1, 2))\n",
        "\n",
        "    with torch.no_grad():\n",
        "\n",
        "        image = torch.from_numpy(image)\n",
        "        if torch.cuda.is_available():\n",
        "            image = image.cuda()\n",
        "\n",
        "        st = time.time()\n",
        "        scores, classification, transformed_anchors = retinanet(image.cuda().float())\n",
        "        print('Elapsed time: {}'.format(time.time() - st))\n",
        "        idxs = np.where(scores.cpu() > 0.5)\n",
        "\n",
        "        for j in range(idxs[0].shape[0]):\n",
        "            bbox = transformed_anchors[idxs[0][j], :]\n",
        "\n",
        "            x1 = int(bbox[0] / scale)\n",
        "            y1 = int(bbox[1] / scale)\n",
        "            x2 = int(bbox[2] / scale)\n",
        "            y2 = int(bbox[3] / scale)\n",
        "            label_name = labels[int(classification[idxs[0][j]])]\n",
        "            score = scores[j]\n",
        "            caption = (label_name)\n",
        "            draw_caption(image_orig, (x1, y1, x2, y2), caption,int(classification[idxs[0][j]]))\n",
        "            cv2.rectangle(image_orig, (x1, y1), (x2, y2), color=(0, 0, 255), thickness=2)\n",
        "\n",
        "    plt.imshow(image_orig)\n"
      ]
    },
    {
      "cell_type": "code",
      "execution_count": 56,
      "metadata": {
        "colab": {
          "base_uri": "https://localhost:8080/",
          "height": 263
        },
        "id": "c5DYfGxinQjN",
        "outputId": "47d1ad80-499b-427d-8a0e-d073f66efaf5"
      },
      "outputs": [
        {
          "output_type": "stream",
          "name": "stdout",
          "text": [
            "Elapsed time: 0.17045807838439941\n"
          ]
        },
        {
          "output_type": "display_data",
          "data": {
            "text/plain": [
              "<Figure size 432x288 with 1 Axes>"
            ],
            "image/png": "[encoded data removed]"
          },
          "metadata": {
            "needs_background": "light"
          }
        }
      ],
      "source": [
        "predict(img_path,retinanet)"
      ]
    },
    {
      "cell_type": "markdown",
      "metadata": {
        "id": "SOv-C3ta9s5F"
      },
      "source": [
        "# Some reference \n",
        "https://github.com/yhenon/pytorch-retinanet"
      ]
    }
  ],
  "metadata": {
    "accelerator": "GPU",
    "colab": {
      "provenance": []
    },
    "gpuClass": "standard",
    "kernelspec": {
      "display_name": "Python 3.9.7 ('base')",
      "language": "python",
      "name": "python3"
    },
    "language_info": {
      "codemirror_mode": {
        "name": "ipython",
        "version": 3
      },
      "file_extension": ".py",
      "mimetype": "text/x-python",
      "name": "python",
      "nbconvert_exporter": "python",
      "pygments_lexer": "ipython3",
      "version": "3.9.7"
    },
    "orig_nbformat": 4,
    "vscode": {
      "interpreter": {
        "hash": "ff2136a0fe6bc790f1b40d257e6b1bba23119827483ea2b7c12c8cc23c661a47"
      }
    }
  },
  "nbformat": 4,
  "nbformat_minor": 0
}