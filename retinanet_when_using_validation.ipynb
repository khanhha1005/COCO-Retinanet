{
  "nbformat": 4,
  "nbformat_minor": 0,
  "metadata": {
    "colab": {
      "provenance": []
    },
    "kernelspec": {
      "name": "python3",
      "display_name": "Python 3"
    },
    "language_info": {
      "name": "python"
    },
    "accelerator": "GPU",
    "gpuClass": "standard"
  },
  "cells": [
    {
      "cell_type": "code",
      "execution_count": 1,
      "metadata": {
        "colab": {
          "base_uri": "https://localhost:8080/"
        },
        "id": "--Fz9HS-78jT",
        "outputId": "9bb4b71a-8071-490a-8fce-4408389bd108"
      },
      "outputs": [
        {
          "output_type": "stream",
          "name": "stdout",
          "text": [
            "--2023-01-01 05:02:25--  http://images.cocodataset.org/zips/val2017.zip\n",
            "Resolving images.cocodataset.org (images.cocodataset.org)... 54.231.132.1, 54.231.232.73, 52.217.204.9, ...\n",
            "Connecting to images.cocodataset.org (images.cocodataset.org)|54.231.132.1|:80... connected.\n",
            "HTTP request sent, awaiting response... 200 OK\n",
            "Length: 815585330 (778M) [application/zip]\n",
            "Saving to: ‘val2017.zip’\n",
            "\n",
            "val2017.zip         100%[===================>] 777.80M  12.6MB/s    in 64s     \n",
            "\n",
            "2023-01-01 05:03:29 (12.2 MB/s) - ‘val2017.zip’ saved [815585330/815585330]\n",
            "\n",
            "--2023-01-01 05:03:29--  http://images.cocodataset.org/annotations/annotations_trainval2017.zip\n",
            "Resolving images.cocodataset.org (images.cocodataset.org)... 52.217.82.100, 52.216.34.81, 52.217.225.89, ...\n",
            "Connecting to images.cocodataset.org (images.cocodataset.org)|52.217.82.100|:80... connected.\n",
            "HTTP request sent, awaiting response... 200 OK\n",
            "Length: 252907541 (241M) [application/zip]\n",
            "Saving to: ‘annotations_trainval2017.zip’\n",
            "\n",
            "annotations_trainva 100%[===================>] 241.19M  12.4MB/s    in 21s     \n",
            "\n",
            "2023-01-01 05:03:50 (11.6 MB/s) - ‘annotations_trainval2017.zip’ saved [252907541/252907541]\n",
            "\n",
            "--2023-01-01 05:03:50--  http://images.cocodataset.org/zips/train2017.zip\n",
            "Resolving images.cocodataset.org (images.cocodataset.org)... 54.231.192.33, 52.217.171.161, 52.217.11.28, ...\n",
            "Connecting to images.cocodataset.org (images.cocodataset.org)|54.231.192.33|:80... connected.\n",
            "HTTP request sent, awaiting response... 200 OK\n",
            "Length: 19336861798 (18G) [application/zip]\n",
            "Saving to: ‘train2017.zip’\n",
            "\n",
            "train2017.zip       100%[===================>]  18.01G  11.8MB/s    in 24m 22s \n",
            "\n",
            "2023-01-01 05:28:13 (12.6 MB/s) - ‘train2017.zip’ saved [19336861798/19336861798]\n",
            "\n"
          ]
        }
      ],
      "source": [
        "!wget http://images.cocodataset.org/zips/val2017.zip\n",
        "!wget http://images.cocodataset.org/annotations/annotations_trainval2017.zip\n",
        "!wget http://images.cocodataset.org/zips/train2017.zip  \n"
      ]
    },
    {
      "cell_type": "code",
      "source": [
        "\n",
        "!unzip val2017.zip\n",
        "!rm -rf val2017.zip\n",
        "!unzip annotations_trainval2017.zip\n",
        "!rm -rf annotations_trainval2017.zip\n"
      ],
      "metadata": {
        "id": "Ark3svkL8tMC"
      },
      "execution_count": null,
      "outputs": []
    },
    {
      "cell_type": "code",
      "source": [
        "!unzip /content/train2017.zip\n",
        "!rm -rf /content/train2017.zip"
      ],
      "metadata": {
        "id": "JfTKfAkG_9-4"
      },
      "execution_count": null,
      "outputs": []
    },
    {
      "cell_type": "code",
      "source": [
        "!pip install pyodi"
      ],
      "metadata": {
        "id": "8vLJrAGZ-H47"
      },
      "execution_count": null,
      "outputs": []
    },
    {
      "cell_type": "code",
      "source": [
        "%cd /content/annotations"
      ],
      "metadata": {
        "id": "rTF3Oe-y-qmk"
      },
      "execution_count": null,
      "outputs": []
    },
    {
      "cell_type": "markdown",
      "source": [
        "# Spliting Training Dataset into Training Set and Validation Set "
      ],
      "metadata": {
        "id": "JnElDJ2y4BYp"
      }
    },
    {
      "cell_type": "code",
      "source": [
        "!pyodi coco random-split ./instances_train2017.json ./random_coco_split --val-percentage 0.05\n"
      ],
      "metadata": {
        "colab": {
          "base_uri": "https://localhost:8080/"
        },
        "id": "Bol2JvbC90nx",
        "outputId": "3c8e7d94-5a5c-47ea-b3fe-a83e13fae4f3"
      },
      "execution_count": 6,
      "outputs": [
        {
          "output_type": "stream",
          "name": "stdout",
          "text": [
            "\u001b[32m2023-01-01 05:42:35.596\u001b[0m | \u001b[1mINFO    \u001b[0m | \u001b[36mpyodi.apps.coco.coco_split\u001b[0m:\u001b[36mrandom_split\u001b[0m:\u001b[36m183\u001b[0m - \u001b[1mGathering images...\u001b[0m\n",
            "\u001b[32m2023-01-01 05:42:35.709\u001b[0m | \u001b[1mINFO    \u001b[0m | \u001b[36mpyodi.apps.coco.coco_split\u001b[0m:\u001b[36mrandom_split\u001b[0m:\u001b[36m194\u001b[0m - \u001b[1mGathering annotations...\u001b[0m\n",
            "\u001b[32m2023-01-01 05:45:17.733\u001b[0m | \u001b[1mINFO    \u001b[0m | \u001b[36mpyodi.apps.coco.coco_split\u001b[0m:\u001b[36mrandom_split\u001b[0m:\u001b[36m218\u001b[0m - \u001b[1mSaving splits to file...\u001b[0m\n",
            "./random_coco_split_train.json\n",
            "./random_coco_split_val.json\n"
          ]
        }
      ]
    },
    {
      "cell_type": "markdown",
      "source": [
        "# Start Training "
      ],
      "metadata": {
        "id": "I5ltdNtl4LA8"
      }
    },
    {
      "cell_type": "code",
      "source": [
        "!git clone https://github.com/khanhha1005/COCO-Retinanet.git"
      ],
      "metadata": {
        "colab": {
          "base_uri": "https://localhost:8080/"
        },
        "id": "v35_4SN2_5Os",
        "outputId": "b30e320b-015f-410e-9e39-a7cd26f8a500"
      },
      "execution_count": 7,
      "outputs": [
        {
          "output_type": "stream",
          "name": "stdout",
          "text": [
            "Cloning into 'COCO-Retinanet'...\n",
            "remote: Enumerating objects: 42, done.\u001b[K\n",
            "remote: Counting objects: 100% (42/42), done.\u001b[K\n",
            "remote: Compressing objects: 100% (29/29), done.\u001b[K\n",
            "remote: Total 42 (delta 13), reused 39 (delta 10), pack-reused 0\u001b[K\n",
            "Unpacking objects: 100% (42/42), done.\n"
          ]
        }
      ]
    },
    {
      "cell_type": "code",
      "source": [
        "%cd /content/COCO-Retinanet/Retinanet Pytorch"
      ],
      "metadata": {
        "colab": {
          "base_uri": "https://localhost:8080/"
        },
        "id": "ttLWUqam6sQl",
        "outputId": "e7bdb8ed-25e8-48f9-da28-5a53e357b4f1"
      },
      "execution_count": 12,
      "outputs": [
        {
          "output_type": "stream",
          "name": "stdout",
          "text": [
            "/content/COCO-Retinanet/Retinanet Pytorch\n"
          ]
        }
      ]
    },
    {
      "cell_type": "code",
      "source": [
        "!python train.py --dataset coco --coco_path /content/coco2017 --depth 50 --epochs 2"
      ],
      "metadata": {
        "colab": {
          "base_uri": "https://localhost:8080/"
        },
        "id": "rlJ0Y7meEXaT",
        "outputId": "2f2b657b-4e0e-4980-b043-ccc96a035477"
      },
      "execution_count": null,
      "outputs": [
        {
          "output_type": "stream",
          "name": "stdout",
          "text": [
            "CUDA available: True\n",
            "loading annotations into memory...\n",
            "tcmalloc: large alloc 1091723264 bytes == 0x77e4000 @  0x7fc435a271e7 0x4d30a0 0x5dede2 0x61033f 0x5aab9b 0x47c416 0x6170f1 0x5aaeb9 0x5d9926 0x5d9a1e 0x5efca3 0x4f7916 0x4997a2 0x55d078 0x5d8941 0x4997c7 0x55cd91 0x5d8941 0x5da092 0x586de6 0x5d8cdf 0x55dc1e 0x55cd91 0x5d8941 0x5da107 0x586de6 0x5d8cdf 0x55ea20 0x5d86e9 0x4990ca 0x55cd91\n",
            "Done (t=16.64s)\n",
            "creating index...\n",
            "index created!\n",
            "loading annotations into memory...\n",
            "Done (t=2.23s)\n",
            "creating index...\n",
            "index created!\n",
            "loading annotations into memory...\n",
            "Done (t=0.52s)\n",
            "creating index...\n",
            "index created!\n",
            "Num training images: 112389\n",
            "Epoch - 0 Started\n",
            "Epoch: 0 | Iteration: 0 | Classification loss: 1.14107 | Regression loss: 1.06467 | Running loss: 2.20574\n",
            "Epoch: 0 | Iteration: 1 | Classification loss: 1.25717 | Regression loss: 1.09777 | Running loss: 2.28034\n",
            "Epoch: 0 | Iteration: 2 | Classification loss: 1.40851 | Regression loss: 0.97367 | Running loss: 2.31429\n",
            "Epoch: 0 | Iteration: 3 | Classification loss: 1.15982 | Regression loss: 1.05574 | Running loss: 2.28961\n",
            "Epoch: 0 | Iteration: 4 | Classification loss: 1.23025 | Regression loss: 1.08989 | Running loss: 2.29571\n",
            "Epoch: 0 | Iteration: 5 | Classification loss: 1.29333 | Regression loss: 1.05735 | Running loss: 2.30487\n",
            "Epoch: 0 | Iteration: 6 | Classification loss: 1.18996 | Regression loss: 1.05178 | Running loss: 2.29586\n",
            "Epoch: 0 | Iteration: 7 | Classification loss: 1.38496 | Regression loss: 1.27617 | Running loss: 2.34152\n",
            "Epoch: 0 | Iteration: 8 | Classification loss: 1.15461 | Regression loss: 1.06201 | Running loss: 2.32764\n",
            "Epoch: 0 | Iteration: 9 | Classification loss: 1.10719 | Regression loss: 1.03709 | Running loss: 2.30930\n",
            "Epoch: 0 | Iteration: 10 | Classification loss: 1.21014 | Regression loss: 1.05207 | Running loss: 2.30502\n",
            "Epoch: 0 | Iteration: 11 | Classification loss: 1.16157 | Regression loss: 1.03760 | Running loss: 2.29620\n",
            "Epoch: 0 | Iteration: 12 | Classification loss: 1.14706 | Regression loss: 0.98832 | Running loss: 2.28383\n",
            "Epoch: 0 | Iteration: 13 | Classification loss: 1.20874 | Regression loss: 1.00301 | Running loss: 2.27868\n",
            "Epoch: 0 | Iteration: 14 | Classification loss: 1.32526 | Regression loss: 1.10795 | Running loss: 2.28898\n",
            "Epoch: 0 | Iteration: 15 | Classification loss: 1.23795 | Regression loss: 0.97242 | Running loss: 2.28407\n",
            "Epoch: 0 | Iteration: 16 | Classification loss: 1.10859 | Regression loss: 1.05141 | Running loss: 2.27677\n",
            "Epoch: 0 | Iteration: 17 | Classification loss: 1.23142 | Regression loss: 1.14605 | Running loss: 2.28236\n",
            "Epoch: 0 | Iteration: 18 | Classification loss: 1.22752 | Regression loss: 1.09330 | Running loss: 2.28439\n",
            "Epoch: 0 | Iteration: 19 | Classification loss: 1.12473 | Regression loss: 1.08308 | Running loss: 2.28056\n",
            "Epoch: 0 | Iteration: 20 | Classification loss: 1.14188 | Regression loss: 0.98594 | Running loss: 2.27329\n",
            "Epoch: 0 | Iteration: 21 | Classification loss: 1.36310 | Regression loss: 1.08148 | Running loss: 2.28107\n",
            "Epoch: 0 | Iteration: 22 | Classification loss: 1.32555 | Regression loss: 1.05074 | Running loss: 2.28521\n",
            "Epoch: 0 | Iteration: 23 | Classification loss: 1.11003 | Regression loss: 1.02389 | Running loss: 2.27891\n",
            "Epoch: 0 | Iteration: 24 | Classification loss: 1.22564 | Regression loss: 1.03023 | Running loss: 2.27799\n",
            "Epoch: 0 | Iteration: 25 | Classification loss: 1.17214 | Regression loss: 1.04052 | Running loss: 2.27547\n",
            "Epoch: 0 | Iteration: 26 | Classification loss: 1.12314 | Regression loss: 1.01712 | Running loss: 2.27047\n",
            "Epoch: 0 | Iteration: 27 | Classification loss: 1.14456 | Regression loss: 1.02230 | Running loss: 2.26677\n",
            "Epoch: 0 | Iteration: 28 | Classification loss: 1.17370 | Regression loss: 1.08716 | Running loss: 2.26656\n",
            "Epoch: 0 | Iteration: 29 | Classification loss: 1.20108 | Regression loss: 1.01588 | Running loss: 2.26491\n",
            "Epoch: 0 | Iteration: 30 | Classification loss: 1.14333 | Regression loss: 1.03350 | Running loss: 2.26207\n",
            "Epoch: 0 | Iteration: 31 | Classification loss: 1.27089 | Regression loss: 1.24721 | Running loss: 2.27007\n",
            "Epoch: 0 | Iteration: 32 | Classification loss: 1.09851 | Regression loss: 1.03550 | Running loss: 2.26595\n",
            "Epoch: 0 | Iteration: 33 | Classification loss: 0.99014 | Regression loss: 1.06250 | Running loss: 2.25967\n",
            "Epoch: 0 | Iteration: 34 | Classification loss: 1.13144 | Regression loss: 1.02853 | Running loss: 2.25682\n",
            "Epoch: 0 | Iteration: 35 | Classification loss: 1.21676 | Regression loss: 0.92751 | Running loss: 2.25370\n",
            "Epoch: 0 | Iteration: 36 | Classification loss: 1.19682 | Regression loss: 1.04161 | Running loss: 2.25328\n",
            "Epoch: 0 | Iteration: 37 | Classification loss: 1.03280 | Regression loss: 1.03004 | Running loss: 2.24827\n",
            "Epoch: 0 | Iteration: 38 | Classification loss: 1.19745 | Regression loss: 1.02529 | Running loss: 2.24762\n",
            "Epoch: 0 | Iteration: 39 | Classification loss: 1.14669 | Regression loss: 1.01312 | Running loss: 2.24542\n",
            "Epoch: 0 | Iteration: 40 | Classification loss: 1.18656 | Regression loss: 1.07202 | Running loss: 2.24574\n",
            "Epoch: 0 | Iteration: 41 | Classification loss: 1.26137 | Regression loss: 1.01207 | Running loss: 2.24640\n",
            "Epoch: 0 | Iteration: 42 | Classification loss: 0.91102 | Regression loss: 1.09397 | Running loss: 2.24079\n",
            "Epoch: 0 | Iteration: 43 | Classification loss: 1.28219 | Regression loss: 1.09536 | Running loss: 2.24390\n",
            "Epoch: 0 | Iteration: 44 | Classification loss: 0.88057 | Regression loss: 1.01544 | Running loss: 2.23617\n",
            "Epoch: 0 | Iteration: 45 | Classification loss: 1.33768 | Regression loss: 1.03268 | Running loss: 2.23908\n",
            "Epoch: 0 | Iteration: 46 | Classification loss: 1.16277 | Regression loss: 1.02328 | Running loss: 2.23796\n",
            "Epoch: 0 | Iteration: 47 | Classification loss: 0.93332 | Regression loss: 1.04041 | Running loss: 2.23245\n",
            "Epoch: 0 | Iteration: 48 | Classification loss: 1.28321 | Regression loss: 1.05956 | Running loss: 2.23470\n",
            "Epoch: 0 | Iteration: 49 | Classification loss: 0.92024 | Regression loss: 1.05389 | Running loss: 2.22949\n",
            "Epoch: 0 | Iteration: 50 | Classification loss: 1.25211 | Regression loss: 1.06932 | Running loss: 2.23129\n",
            "Epoch: 0 | Iteration: 51 | Classification loss: 1.14190 | Regression loss: 1.09051 | Running loss: 2.23131\n",
            "Epoch: 0 | Iteration: 52 | Classification loss: 1.05502 | Regression loss: 1.03456 | Running loss: 2.22864\n",
            "Epoch: 0 | Iteration: 53 | Classification loss: 1.11110 | Regression loss: 1.04665 | Running loss: 2.22733\n",
            "Epoch: 0 | Iteration: 54 | Classification loss: 1.21195 | Regression loss: 1.07674 | Running loss: 2.22844\n",
            "Epoch: 0 | Iteration: 55 | Classification loss: 1.13260 | Regression loss: 1.00871 | Running loss: 2.22689\n",
            "Epoch: 0 | Iteration: 56 | Classification loss: 1.13625 | Regression loss: 0.99402 | Running loss: 2.22519\n",
            "Epoch: 0 | Iteration: 57 | Classification loss: 1.10388 | Regression loss: 1.04674 | Running loss: 2.22391\n",
            "Epoch: 0 | Iteration: 58 | Classification loss: 1.14687 | Regression loss: 0.99650 | Running loss: 2.22254\n",
            "Epoch: 0 | Iteration: 59 | Classification loss: 1.20775 | Regression loss: 1.02089 | Running loss: 2.22264\n",
            "Epoch: 0 | Iteration: 60 | Classification loss: 1.10837 | Regression loss: 1.02033 | Running loss: 2.22110\n",
            "Epoch: 0 | Iteration: 61 | Classification loss: 1.16869 | Regression loss: 1.07219 | Running loss: 2.22142\n",
            "Epoch: 0 | Iteration: 62 | Classification loss: 2.45745 | Regression loss: 0.52485 | Running loss: 2.23350\n",
            "Epoch: 0 | Iteration: 63 | Classification loss: 1.15127 | Regression loss: 1.01137 | Running loss: 2.23239\n",
            "Epoch: 0 | Iteration: 64 | Classification loss: 0.83548 | Regression loss: 0.99073 | Running loss: 2.22614\n",
            "Epoch: 0 | Iteration: 65 | Classification loss: 1.15476 | Regression loss: 1.05515 | Running loss: 2.22590\n",
            "Epoch: 0 | Iteration: 66 | Classification loss: 0.99914 | Regression loss: 1.06576 | Running loss: 2.22349\n",
            "Epoch: 0 | Iteration: 67 | Classification loss: 1.15605 | Regression loss: 1.06049 | Running loss: 2.22339\n",
            "Epoch: 0 | Iteration: 68 | Classification loss: 1.32525 | Regression loss: 0.98469 | Running loss: 2.22465\n",
            "Epoch: 0 | Iteration: 69 | Classification loss: 1.15964 | Regression loss: 1.01326 | Running loss: 2.22391\n",
            "Epoch: 0 | Iteration: 70 | Classification loss: 1.21848 | Regression loss: 1.05994 | Running loss: 2.22468\n",
            "Epoch: 0 | Iteration: 71 | Classification loss: 1.15058 | Regression loss: 1.00785 | Running loss: 2.22376\n",
            "Epoch: 0 | Iteration: 72 | Classification loss: 1.13682 | Regression loss: 0.96564 | Running loss: 2.22209\n",
            "Epoch: 0 | Iteration: 73 | Classification loss: 0.88196 | Regression loss: 1.05885 | Running loss: 2.21829\n",
            "Epoch: 0 | Iteration: 74 | Classification loss: 0.95854 | Regression loss: 1.02711 | Running loss: 2.21519\n",
            "Epoch: 0 | Iteration: 75 | Classification loss: 1.09367 | Regression loss: 1.04973 | Running loss: 2.21425\n",
            "Epoch: 0 | Iteration: 76 | Classification loss: 0.96308 | Regression loss: 1.09383 | Running loss: 2.21220\n",
            "Epoch: 0 | Iteration: 77 | Classification loss: 1.32677 | Regression loss: 1.02411 | Running loss: 2.21398\n",
            "Epoch: 0 | Iteration: 78 | Classification loss: 0.96496 | Regression loss: 1.00651 | Running loss: 2.21091\n",
            "Epoch: 0 | Iteration: 79 | Classification loss: 1.09689 | Regression loss: 1.08040 | Running loss: 2.21049\n",
            "Epoch: 0 | Iteration: 80 | Classification loss: 1.40260 | Regression loss: 1.03725 | Running loss: 2.21332\n",
            "Epoch: 0 | Iteration: 81 | Classification loss: 1.11825 | Regression loss: 0.94880 | Running loss: 2.21154\n",
            "Epoch: 0 | Iteration: 82 | Classification loss: 1.27113 | Regression loss: 1.01550 | Running loss: 2.21244\n",
            "Epoch: 0 | Iteration: 83 | Classification loss: 1.09213 | Regression loss: 0.99073 | Running loss: 2.21090\n",
            "Epoch: 0 | Iteration: 84 | Classification loss: 1.10265 | Regression loss: 1.00818 | Running loss: 2.20972\n",
            "Epoch: 0 | Iteration: 85 | Classification loss: 1.76796 | Regression loss: 0.54679 | Running loss: 2.21094\n",
            "Epoch: 0 | Iteration: 86 | Classification loss: 0.91078 | Regression loss: 0.91170 | Running loss: 2.20648\n",
            "Epoch: 0 | Iteration: 87 | Classification loss: 0.96211 | Regression loss: 0.99904 | Running loss: 2.20369\n",
            "Epoch: 0 | Iteration: 88 | Classification loss: 0.93824 | Regression loss: 1.00449 | Running loss: 2.20076\n",
            "Epoch: 0 | Iteration: 89 | Classification loss: 0.95179 | Regression loss: 1.02172 | Running loss: 2.19823\n",
            "Epoch: 0 | Iteration: 90 | Classification loss: 1.16149 | Regression loss: 1.01953 | Running loss: 2.19805\n",
            "Epoch: 0 | Iteration: 91 | Classification loss: 0.90526 | Regression loss: 0.96642 | Running loss: 2.19450\n",
            "Epoch: 0 | Iteration: 92 | Classification loss: 0.85330 | Regression loss: 1.24091 | Running loss: 2.19342\n",
            "Epoch: 0 | Iteration: 93 | Classification loss: 1.28729 | Regression loss: 0.96987 | Running loss: 2.19410\n",
            "Epoch: 0 | Iteration: 94 | Classification loss: 1.25801 | Regression loss: 1.05448 | Running loss: 2.19534\n",
            "Epoch: 0 | Iteration: 95 | Classification loss: 1.31620 | Regression loss: 0.97729 | Running loss: 2.19637\n",
            "Epoch: 0 | Iteration: 96 | Classification loss: 1.12398 | Regression loss: 1.05401 | Running loss: 2.19618\n",
            "Epoch: 0 | Iteration: 97 | Classification loss: 1.34504 | Regression loss: 0.99205 | Running loss: 2.19761\n",
            "Epoch: 0 | Iteration: 98 | Classification loss: 1.19226 | Regression loss: 1.07740 | Running loss: 2.19834\n",
            "Epoch: 0 | Iteration: 99 | Classification loss: 1.17422 | Regression loss: 1.01969 | Running loss: 2.19830\n",
            "Epoch: 0 | Iteration: 100 | Classification loss: 0.93027 | Regression loss: 0.95212 | Running loss: 2.19517\n",
            "Epoch: 0 | Iteration: 101 | Classification loss: 1.16245 | Regression loss: 1.03221 | Running loss: 2.19517\n",
            "Epoch: 0 | Iteration: 102 | Classification loss: 1.19200 | Regression loss: 1.00729 | Running loss: 2.19521\n",
            "Epoch: 0 | Iteration: 103 | Classification loss: 1.19010 | Regression loss: 0.95120 | Running loss: 2.19469\n",
            "Epoch: 0 | Iteration: 104 | Classification loss: 1.09352 | Regression loss: 1.01562 | Running loss: 2.19387\n",
            "Epoch: 0 | Iteration: 105 | Classification loss: 1.17904 | Regression loss: 0.99219 | Running loss: 2.19366\n",
            "Epoch: 0 | Iteration: 106 | Classification loss: 1.31447 | Regression loss: 0.95757 | Running loss: 2.19439\n",
            "Epoch: 0 | Iteration: 107 | Classification loss: 0.99671 | Regression loss: 1.04491 | Running loss: 2.19298\n",
            "Epoch: 0 | Iteration: 108 | Classification loss: 1.00515 | Regression loss: 1.00621 | Running loss: 2.19131\n",
            "Epoch: 0 | Iteration: 109 | Classification loss: 1.10603 | Regression loss: 1.03055 | Running loss: 2.19081\n",
            "Epoch: 0 | Iteration: 110 | Classification loss: 1.15826 | Regression loss: 1.02653 | Running loss: 2.19076\n",
            "Epoch: 0 | Iteration: 111 | Classification loss: 1.16550 | Regression loss: 1.08083 | Running loss: 2.19126\n",
            "Epoch: 0 | Iteration: 112 | Classification loss: 1.07230 | Regression loss: 0.98857 | Running loss: 2.19010\n",
            "Epoch: 0 | Iteration: 113 | Classification loss: 0.80274 | Regression loss: 1.07348 | Running loss: 2.18735\n",
            "Epoch: 0 | Iteration: 114 | Classification loss: 1.19261 | Regression loss: 0.90716 | Running loss: 2.18659\n",
            "Epoch: 0 | Iteration: 115 | Classification loss: 1.17258 | Regression loss: 1.03911 | Running loss: 2.18680\n",
            "Epoch: 0 | Iteration: 116 | Classification loss: 1.13460 | Regression loss: 0.97786 | Running loss: 2.18617\n",
            "Epoch: 0 | Iteration: 117 | Classification loss: 0.98352 | Regression loss: 1.06970 | Running loss: 2.18504\n",
            "Epoch: 0 | Iteration: 118 | Classification loss: 0.85195 | Regression loss: 1.04919 | Running loss: 2.18266\n",
            "Epoch: 0 | Iteration: 119 | Classification loss: 1.22726 | Regression loss: 0.94217 | Running loss: 2.18254\n",
            "Epoch: 0 | Iteration: 120 | Classification loss: 1.03339 | Regression loss: 1.00324 | Running loss: 2.18134\n",
            "Epoch: 0 | Iteration: 121 | Classification loss: 1.12430 | Regression loss: 0.93696 | Running loss: 2.18035\n",
            "Epoch: 0 | Iteration: 122 | Classification loss: 1.15664 | Regression loss: 0.98590 | Running loss: 2.18005\n",
            "Epoch: 0 | Iteration: 123 | Classification loss: 0.91842 | Regression loss: 0.94393 | Running loss: 2.17749\n",
            "Epoch: 0 | Iteration: 124 | Classification loss: 0.63948 | Regression loss: 1.07856 | Running loss: 2.17381\n",
            "Epoch: 0 | Iteration: 125 | Classification loss: 0.96725 | Regression loss: 0.97959 | Running loss: 2.17201\n",
            "Epoch: 0 | Iteration: 126 | Classification loss: 1.07662 | Regression loss: 1.09680 | Running loss: 2.17202\n",
            "Epoch: 0 | Iteration: 127 | Classification loss: 1.23361 | Regression loss: 0.94905 | Running loss: 2.17210\n",
            "Epoch: 0 | Iteration: 128 | Classification loss: 0.77205 | Regression loss: 1.05847 | Running loss: 2.16945\n",
            "Epoch: 0 | Iteration: 129 | Classification loss: 1.02768 | Regression loss: 0.91281 | Running loss: 2.16769\n",
            "Epoch: 0 | Iteration: 130 | Classification loss: 1.19373 | Regression loss: 1.02072 | Running loss: 2.16805\n",
            "Epoch: 0 | Iteration: 131 | Classification loss: 1.17344 | Regression loss: 0.94906 | Running loss: 2.16771\n",
            "Epoch: 0 | Iteration: 132 | Classification loss: 1.22007 | Regression loss: 0.82043 | Running loss: 2.16675\n",
            "Epoch: 0 | Iteration: 133 | Classification loss: 0.96364 | Regression loss: 1.05742 | Running loss: 2.16566\n",
            "Epoch: 0 | Iteration: 134 | Classification loss: 1.17611 | Regression loss: 0.99711 | Running loss: 2.16572\n",
            "Epoch: 0 | Iteration: 135 | Classification loss: 0.95454 | Regression loss: 1.01380 | Running loss: 2.16427\n",
            "Epoch: 0 | Iteration: 136 | Classification loss: 1.06042 | Regression loss: 1.00634 | Running loss: 2.16355\n"
          ]
        }
      ]
    },
    {
      "cell_type": "markdown",
      "source": [
        "# Starting testing"
      ],
      "metadata": {
        "id": "MyOIeRPC6j4U"
      }
    },
    {
      "cell_type": "code",
      "source": [
        "!python coco_validation.py --coco_path /content/drive/MyDrive/Retinanet/coco2017 --model_path /content/drive/MyDrive/Retinanet/coco_resnet_50_map_0_335_state_dict.pt"
      ],
      "metadata": {
        "id": "qkqEZ7X778IN"
      },
      "execution_count": null,
      "outputs": []
    },
    {
      "cell_type": "markdown",
      "source": [
        "# Inference Model"
      ],
      "metadata": {
        "id": "7YY2QqsY9dWC"
      }
    },
    {
      "cell_type": "code",
      "source": [],
      "metadata": {
        "id": "V2OLrl8C9dHI"
      },
      "execution_count": null,
      "outputs": []
    },
    {
      "cell_type": "markdown",
      "source": [
        "# Some reference \n",
        "https://github.com/yhenon/pytorch-retinanet"
      ],
      "metadata": {
        "id": "k56PIH5r4PXU"
      }
    }
  ]
}